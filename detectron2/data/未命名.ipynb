{
 "cells": [
  {
   "cell_type": "code",
   "execution_count": 1,
   "metadata": {},
   "outputs": [],
   "source": [
    "from detectron2.data.datasets import register_coco_instances\n",
    "my_dataset_name = 'car'\n",
    "json_annotation = \"/home/ztp/detectron2-master/datasets/coco/annotations/testann.json\"\n",
    "image_dir = \"/home/ztp/detectron2-master/datasets/coco/test2014\"\n",
    "register_coco_instances(my_dataset_name, {}, json_annotation, image_dir)"
   ]
  },
  {
   "cell_type": "code",
   "execution_count": 3,
   "metadata": {},
   "outputs": [
    {
     "ename": "ImportError",
     "evalue": "attempted relative import with no known parent package",
     "output_type": "error",
     "traceback": [
      "\u001b[0;31m---------------------------------------------------------------------------\u001b[0m",
      "\u001b[0;31mImportError\u001b[0m                               Traceback (most recent call last)",
      "\u001b[0;32m<ipython-input-3-241873dd95fe>\u001b[0m in \u001b[0;36m<module>\u001b[0;34m\u001b[0m\n\u001b[1;32m     17\u001b[0m \u001b[0;34m\u001b[0m\u001b[0m\n\u001b[1;32m     18\u001b[0m \u001b[0;31m#from . import samplers\u001b[0m\u001b[0;34m\u001b[0m\u001b[0;34m\u001b[0m\u001b[0;34m\u001b[0m\u001b[0m\n\u001b[0;32m---> 19\u001b[0;31m \u001b[0;32mfrom\u001b[0m \u001b[0;34m.\u001b[0m\u001b[0mcatalog\u001b[0m \u001b[0;32mimport\u001b[0m \u001b[0mDatasetCatalog\u001b[0m\u001b[0;34m,\u001b[0m \u001b[0mMetadataCatalog\u001b[0m\u001b[0;34m\u001b[0m\u001b[0;34m\u001b[0m\u001b[0m\n\u001b[0m\u001b[1;32m     20\u001b[0m \u001b[0;32mfrom\u001b[0m \u001b[0;34m.\u001b[0m\u001b[0mcommon\u001b[0m \u001b[0;32mimport\u001b[0m \u001b[0mAspectRatioGroupedDataset\u001b[0m\u001b[0;34m,\u001b[0m \u001b[0mDatasetFromList\u001b[0m\u001b[0;34m,\u001b[0m \u001b[0mMapDataset\u001b[0m\u001b[0;34m\u001b[0m\u001b[0;34m\u001b[0m\u001b[0m\n\u001b[1;32m     21\u001b[0m \u001b[0;32mfrom\u001b[0m \u001b[0;34m.\u001b[0m\u001b[0mdataset_mapper\u001b[0m \u001b[0;32mimport\u001b[0m \u001b[0mDatasetMapper\u001b[0m\u001b[0;34m\u001b[0m\u001b[0;34m\u001b[0m\u001b[0m\n",
      "\u001b[0;31mImportError\u001b[0m: attempted relative import with no known parent package"
     ]
    }
   ],
   "source": [
    "import bisect\n",
    "import copy\n",
    "import itertools\n",
    "import logging\n",
    "import numpy as np\n",
    "import operator\n",
    "import pickle\n",
    "import torch.utils.data\n",
    "from fvcore.common.file_io import PathManager\n",
    "from tabulate import tabulate\n",
    "from termcolor import colored\n",
    "\n",
    "from detectron2.structures import BoxMode\n",
    "from detectron2.utils.comm import get_world_size\n",
    "from detectron2.utils.env import seed_all_rng\n",
    "from detectron2.utils.logger import log_first_n\n",
    "\n",
    "from . import samplers\n",
    "from .catalog import DatasetCatalog, MetadataCatalog\n",
    "from .common import AspectRatioGroupedDataset, DatasetFromList, MapDataset\n",
    "from .dataset_mapper import DatasetMapper\n",
    "from .detection_utils import check_metadata_consistency"
   ]
  },
  {
   "cell_type": "code",
   "execution_count": null,
   "metadata": {},
   "outputs": [],
   "source": []
  }
 ],
 "metadata": {
  "kernelspec": {
   "display_name": "Python [conda env:.conda-detectron] *",
   "language": "python",
   "name": "conda-env-.conda-detectron-py"
  },
  "language_info": {
   "codemirror_mode": {
    "name": "ipython",
    "version": 3
   },
   "file_extension": ".py",
   "mimetype": "text/x-python",
   "name": "python",
   "nbconvert_exporter": "python",
   "pygments_lexer": "ipython3",
   "version": "3.7.6"
  }
 },
 "nbformat": 4,
 "nbformat_minor": 4
}
